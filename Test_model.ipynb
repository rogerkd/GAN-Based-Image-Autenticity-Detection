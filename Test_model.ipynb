{
 "cells": [
  {
   "cell_type": "code",
   "execution_count": 2,
   "id": "a81c8cec",
   "metadata": {},
   "outputs": [],
   "source": [
    "import cv2\n",
    "import os\n",
    "import numpy as np\n",
    "import tensorflow as tf"
   ]
  },
  {
   "cell_type": "markdown",
   "id": "988d468d",
   "metadata": {},
   "source": [
    "# Load Data"
   ]
  },
  {
   "cell_type": "code",
   "execution_count": 14,
   "id": "6715bc9f",
   "metadata": {},
   "outputs": [],
   "source": [
    "def load_images(image_folder, image_size=(64, 64)):\n",
    "    images = []\n",
    "    for filename in os.listdir(image_folder):\n",
    "        img_path = os.path.join(image_folder, filename)\n",
    "        img = cv2.imread(img_path)\n",
    "        \n",
    "        if img is not None:   \n",
    "            img = cv2.resize(img, image_size)  # Resize to a standard size\n",
    "            img = (img / 127.5) - 1  # Normalize to [-1, 1]\n",
    "            images.append(img.astype(np.float32))\n",
    "        \n",
    "    return np.array(images)\n",
    "\n",
    "\n",
    "real_images = load_images(\"C:\\\\Users\\\\Deepak kumar\\\\GAN_Project\\\\Dataset\\\\casia_v2\\\\Au_jpg\")\n",
    "fake_images = load_images(\"C:\\\\Users\\\\Deepak kumar\\\\GAN_Project\\\\Dataset\\\\casia_v2\\\\Tp_jpg\")"
   ]
  },
  {
   "cell_type": "code",
   "execution_count": 20,
   "id": "137b69d3",
   "metadata": {},
   "outputs": [
    {
     "name": "stdout",
     "output_type": "stream",
     "text": [
      "Training real images: 5949, Training fake images: 4098\n",
      "Testing real images: 1488, Testing fake images: 1025\n"
     ]
    }
   ],
   "source": [
    "train_real = real_images[:int(0.8 * len(real_images))]\n",
    "train_fake = fake_images[:int(0.8 * len(fake_images))]\n",
    "test_real = real_images[int(0.8 * len(real_images)):]\n",
    "test_fake = fake_images[int(0.8 * len(fake_images)):]\n",
    "\n",
    "print(f\"Training real images: {len(train_real)}, Training fake images: {len(train_fake)}\")\n",
    "print(f\"Testing real images: {len(test_real)}, Testing fake images: {len(test_fake)}\")"
   ]
  },
  {
   "cell_type": "code",
   "execution_count": 23,
   "id": "74e4c9f1",
   "metadata": {},
   "outputs": [
    {
     "name": "stdout",
     "output_type": "stream",
     "text": [
      "Generated 2314 augmented fake images.\n"
     ]
    }
   ],
   "source": [
    "from tensorflow.keras.preprocessing.image import ImageDataGenerator\n",
    "\n",
    "datagen = ImageDataGenerator(\n",
    "    rotation_range=40,\n",
    "    width_shift_range=0.2,\n",
    "    height_shift_range=0.2,\n",
    "    shear_range=0.2,\n",
    "    zoom_range=0.2,\n",
    "    horizontal_flip=True,\n",
    "    fill_mode='nearest'\n",
    ")\n",
    "\n",
    "num_augmented_needed = len(real_images) - len(fake_images)\n",
    "\n",
    "for img in fake_images:\n",
    "    img = cv2.resize(img, (64, 64))  \n",
    "    img = (img / 127.5) - 1 \n",
    "    img = img.reshape((1,) + img.shape)\n",
    "    \n",
    "    # Generate augmented images and save them\n",
    "    i = 0\n",
    "    for batch in datagen.flow(img, batch_size=1):\n",
    "        cv2.imwrite(os.path.join(\"C:\\\\Users\\\\Deepak kumar\\\\GAN_Project\\\\Dataset\\\\casia_v2\\\\Tp_jpg\", f'augmented_fake_{i}.jpg'), batch[0])\n",
    "        i += 1\n",
    "        if i >= num_augmented_needed // len(fake_images):\n",
    "            break\n",
    "\n",
    "print(f\"Generated {num_augmented_needed} augmented fake images.\")"
   ]
  },
  {
   "cell_type": "markdown",
   "id": "918263f1",
   "metadata": {},
   "source": [
    "# Load Models"
   ]
  },
  {
   "cell_type": "code",
   "execution_count": 16,
   "id": "cb1da9cf",
   "metadata": {},
   "outputs": [
    {
     "name": "stderr",
     "output_type": "stream",
     "text": [
      "WARNING:absl:No training configuration found in the save file, so the model was *not* compiled. Compile it manually.\n",
      "WARNING:absl:No training configuration found in the save file, so the model was *not* compiled. Compile it manually.\n",
      "WARNING:absl:No training configuration found in the save file, so the model was *not* compiled. Compile it manually.\n",
      "WARNING:absl:No training configuration found in the save file, so the model was *not* compiled. Compile it manually.\n"
     ]
    },
    {
     "name": "stdout",
     "output_type": "stream",
     "text": [
      "Models loaded successfully.\n"
     ]
    }
   ],
   "source": [
    "from tensorflow.keras.models import load_model\n",
    "\n",
    "# Load the models\n",
    "generator_A_to_B = load_model(\"C:\\\\Users\\\\Deepak kumar\\\\GAN_Project\\\\Trained_model\\\\discriminator_A.h5\")\n",
    "generator_B_to_A = load_model(\"C:\\\\Users\\\\Deepak kumar\\\\GAN_Project\\\\Trained_model\\\\generator_B_to_A.h5\")\n",
    "discriminator_A = load_model(\"C:\\\\Users\\\\Deepak kumar\\\\GAN_Project\\\\Trained_model\\\\discriminator_A.h5\")\n",
    "discriminator_B = load_model(\"C:\\\\Users\\\\Deepak kumar\\\\GAN_Project\\\\Trained_model\\\\discriminator_B.h5\")\n",
    "\n",
    "print(\"Models loaded successfully.\")"
   ]
  },
  {
   "cell_type": "code",
   "execution_count": 17,
   "id": "844d3cf5",
   "metadata": {},
   "outputs": [],
   "source": [
    "optimizer = tf.keras.optimizers.Adam(learning_rate=1e-4, beta_1=0.5) \n",
    "\n",
    "# Compile discriminators\n",
    "discriminator_A.compile(optimizer=optimizer, loss='binary_crossentropy', metrics=['accuracy'])\n",
    "discriminator_B.compile(optimizer=optimizer, loss='binary_crossentropy', metrics=['accuracy'])"
   ]
  },
  {
   "cell_type": "markdown",
   "id": "c856d094",
   "metadata": {},
   "source": [
    "# Classifying Real vs Fake Image"
   ]
  },
  {
   "cell_type": "code",
   "execution_count": 18,
   "id": "df6e8298",
   "metadata": {},
   "outputs": [],
   "source": [
    "def classify_image(image, discriminator):\n",
    "    prediction = discriminator(image).numpy().mean()\n",
    "    return \"Real\" if prediction >= 0.5 else \"Fake\""
   ]
  },
  {
   "cell_type": "code",
   "execution_count": 19,
   "id": "55661723",
   "metadata": {},
   "outputs": [
    {
     "name": "stdout",
     "output_type": "stream",
     "text": [
      "Discriminator Performance on Test Set:\n",
      "Accuracy: 59.21%\n",
      "Precision: 59.21%\n",
      "Recall: 100.00%\n",
      "F1 Score: 74.38%\n"
     ]
    }
   ],
   "source": [
    "from sklearn.metrics import accuracy_score, precision_score, recall_score, f1_score\n",
    "\n",
    "# Lists to store true labels and predictions\n",
    "true_labels = []\n",
    "predictions = []\n",
    "\n",
    "# Classify real images in the test set\n",
    "for img in test_real:\n",
    "    img_resized = cv2.resize(img, (64, 64))\n",
    "    img_normalized = (img_resized / 127.5) - 1\n",
    "    pred = classify_image(img_normalized[np.newaxis, ...], discriminator_A)\n",
    "    predictions.append(1 if pred == \"Real\" else 0)\n",
    "    true_labels.append(1)  # True label for real images is 1\n",
    "\n",
    "# Classify fake images in the test set\n",
    "for img in test_fake:\n",
    "    img_resized = cv2.resize(img, (64, 64))\n",
    "    img_normalized = (img_resized / 127.5) - 1\n",
    "    pred = classify_image(img_normalized[np.newaxis, ...], discriminator_A)\n",
    "    predictions.append(1 if pred == \"Real\" else 0)\n",
    "    true_labels.append(0)  # True label for fake images is 0\n",
    "\n",
    "# Step 2: Calculate Performance Metrics\n",
    "accuracy = accuracy_score(true_labels, predictions)\n",
    "precision = precision_score(true_labels, predictions)\n",
    "recall = recall_score(true_labels, predictions)\n",
    "f1 = f1_score(true_labels, predictions)\n",
    "\n",
    "print(f\"Discriminator Performance on Test Set:\")\n",
    "print(f\"Accuracy: {accuracy * 100:.2f}%\")\n",
    "print(f\"Precision: {precision * 100:.2f}%\")\n",
    "print(f\"Recall: {recall * 100:.2f}%\")\n",
    "print(f\"F1 Score: {f1 * 100:.2f}%\")\n"
   ]
  },
  {
   "cell_type": "code",
   "execution_count": 5,
   "id": "c772ea6f",
   "metadata": {},
   "outputs": [],
   "source": [
    "# # Test with other Image"
   ]
  },
  {
   "cell_type": "code",
   "execution_count": 13,
   "id": "fc837963",
   "metadata": {},
   "outputs": [
    {
     "name": "stdout",
     "output_type": "stream",
     "text": [
      "\u001b[1m1/1\u001b[0m \u001b[32m━━━━━━━━━━━━━━━━━━━━\u001b[0m\u001b[37m\u001b[0m \u001b[1m0s\u001b[0m 50ms/step\n",
      "The image is classified as: 0.681841254234314 !!!\n"
     ]
    }
   ],
   "source": [
    "def preprocess_image(image_path):\n",
    "    img = cv2.imread(image_path)\n",
    "    img = cv2.resize(img, (64, 64))  \n",
    "    img = (img / 127.5) - 1 \n",
    "    return np.expand_dims(img, axis=0)  \n",
    "\n",
    "test_image_path = \"C:\\\\Users\\\\Deepak kumar\\\\GAN_Project\\\\Random_Images\\\\girl1.jpg\"  \n",
    "test_image = preprocess_image(test_image_path)\n",
    "\n",
    "logits = discriminator_A.predict(test_image)  \n",
    "prediction = tf.sigmoid(logits)\n",
    "prediction = tf.reduce_mean(prediction).numpy()\n",
    "result = \"Real\" if prediction >= 0.5 else \"Fake\"\n",
    "print(f\"The image is classified as: {result} !!!\")"
   ]
  },
  {
   "cell_type": "code",
   "execution_count": null,
   "id": "8e570654",
   "metadata": {},
   "outputs": [],
   "source": []
  }
 ],
 "metadata": {
  "kernelspec": {
   "display_name": "Python 3 (ipykernel)",
   "language": "python",
   "name": "python3"
  },
  "language_info": {
   "codemirror_mode": {
    "name": "ipython",
    "version": 3
   },
   "file_extension": ".py",
   "mimetype": "text/x-python",
   "name": "python",
   "nbconvert_exporter": "python",
   "pygments_lexer": "ipython3",
   "version": "3.10.8"
  }
 },
 "nbformat": 4,
 "nbformat_minor": 5
}
