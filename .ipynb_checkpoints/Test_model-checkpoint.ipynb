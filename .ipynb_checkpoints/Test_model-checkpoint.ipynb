{
 "cells": [
  {
   "cell_type": "markdown",
   "id": "39737c56",
   "metadata": {},
   "source": [
    "# Load Models"
   ]
  },
  {
   "cell_type": "code",
   "execution_count": null,
   "id": "cb3cd8ce",
   "metadata": {},
   "outputs": [],
   "source": [
    "from tensorflow.keras.models import load_model\n",
    "\n",
    "# Load the models\n",
    "generator_A_to_B = load_model(\"C:\\\\Users\\\\Deepak kumar\\\\GAN_Project\\\\Trained_model\\\\discriminator_A.h5\")\n",
    "generator_B_to_A = load_model(\"C:\\\\Users\\\\Deepak kumar\\\\GAN_Project\\\\Trained_model\\\\generator_B_to_A.h5\")\n",
    "discriminator_A = load_model(\"C:\\\\Users\\\\Deepak kumar\\\\GAN_Project\\\\Trained_model\\\\discriminator_A.h5\")\n",
    "discriminator_B = load_model(\"C:\\\\Users\\\\Deepak kumar\\\\GAN_Project\\\\Trained_model\\\\discriminator_B.h5\")\n",
    "\n",
    "print(\"Models loaded successfully.\")"
   ]
  }
 ],
 "metadata": {
  "kernelspec": {
   "display_name": "Python 3 (ipykernel)",
   "language": "python",
   "name": "python3"
  },
  "language_info": {
   "codemirror_mode": {
    "name": "ipython",
    "version": 3
   },
   "file_extension": ".py",
   "mimetype": "text/x-python",
   "name": "python",
   "nbconvert_exporter": "python",
   "pygments_lexer": "ipython3",
   "version": "3.10.8"
  }
 },
 "nbformat": 4,
 "nbformat_minor": 5
}
